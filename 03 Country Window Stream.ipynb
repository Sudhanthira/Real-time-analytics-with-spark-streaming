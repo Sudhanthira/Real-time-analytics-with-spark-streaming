{
 "cells": [
  {
   "cell_type": "code",
   "execution_count": 1,
   "id": "6cd6c4df",
   "metadata": {},
   "outputs": [],
   "source": [
    "from pyspark.sql import SparkSession\n",
    "import pyspark.sql.functions as F\n",
    "from pyspark.sql.types import MapType, StringType, IntegerType, ArrayType, StructType, \\\n",
    "                              StructField, LongType, DoubleType, BooleanType, FloatType\n",
    "from IPython.display import display, clear_output\n",
    "import time"
   ]
  },
  {
   "cell_type": "markdown",
   "id": "a06a2b6b",
   "metadata": {},
   "source": [
    "# Step 1: Creating spark session"
   ]
  },
  {
   "cell_type": "code",
   "execution_count": 2,
   "id": "5368baf9",
   "metadata": {},
   "outputs": [],
   "source": [
    "# Creating Spark session\n",
    "spark = SparkSession.builder \\\n",
    "        .appName('kafka') \\\n",
    "        .getOrCreate()"
   ]
  },
  {
   "cell_type": "code",
   "execution_count": 3,
   "id": "22d665fb",
   "metadata": {},
   "outputs": [],
   "source": [
    "## To always show the results of DataFrames and improve the formatting of the output\n",
    "spark.conf.set(\"spark.sql.repl.eagerEval.enabled\",True)\n",
    "\n",
    "## To allow future conversion of Spark DataFrame into Pandas DataFrame\n",
    "spark.conf.set(\"spark.sql.execution.arrow.enabled\", True)"
   ]
  },
  {
   "cell_type": "markdown",
   "id": "0e071e87",
   "metadata": {},
   "source": [
    "# Step 2: Building Spark Streaming DF"
   ]
  },
  {
   "cell_type": "code",
   "execution_count": 4,
   "id": "af83b228",
   "metadata": {},
   "outputs": [],
   "source": [
    "# Read data from the topic \n",
    "stream_df = spark \\\n",
    "  .readStream \\\n",
    "  .format(\"kafka\") \\\n",
    "  .option(\"kafka.bootstrap.servers\", \"broker:29092\") \\\n",
    "  .option(\"subscribe\", \"loctweets\") \\\n",
    "  .option(\"startingOffsets\",\"earliest\") \\\n",
    "  .load()"
   ]
  },
  {
   "cell_type": "code",
   "execution_count": 5,
   "id": "907eec2c",
   "metadata": {},
   "outputs": [],
   "source": [
    "# Convert columns key and value to string\n",
    "string_stream_df = stream_df \\\n",
    "    .withColumn(\"key\", stream_df[\"key\"].cast(StringType())) \\\n",
    "    .withColumn(\"value\", stream_df[\"value\"].cast(StringType()))"
   ]
  },
  {
   "cell_type": "code",
   "execution_count": 6,
   "id": "69af0729",
   "metadata": {},
   "outputs": [
    {
     "name": "stdout",
     "output_type": "stream",
     "text": [
      "root\n",
      " |-- key: string (nullable = true)\n",
      " |-- value: string (nullable = true)\n",
      " |-- topic: string (nullable = true)\n",
      " |-- partition: integer (nullable = true)\n",
      " |-- offset: long (nullable = true)\n",
      " |-- timestamp: timestamp (nullable = true)\n",
      " |-- timestampType: integer (nullable = true)\n",
      "\n"
     ]
    }
   ],
   "source": [
    "# Check schema to verify change of type\n",
    "string_stream_df.printSchema()"
   ]
  },
  {
   "cell_type": "code",
   "execution_count": 7,
   "id": "0c28dc65",
   "metadata": {},
   "outputs": [],
   "source": [
    "# Schema of the location tweets data - keeping only fiels we  may need. \n",
    "schema_tweet = StructType([\n",
    "    StructField(\"ID\", LongType(),  True),\n",
    "    StructField(\"USER_ID\", LongType(),  True),\n",
    "    StructField(\"PLACE_COUNTRY\", StringType(), True)\n",
    "    ]\n",
    ")"
   ]
  },
  {
   "cell_type": "code",
   "execution_count": 8,
   "id": "a50dc1d6",
   "metadata": {},
   "outputs": [],
   "source": [
    "# Convert values of streamed data to JSON and save to new df\n",
    "json_stream_df = string_stream_df \\\n",
    "    .withColumn(\"value\", F.from_json(\"value\", schema_tweet))"
   ]
  },
  {
   "cell_type": "code",
   "execution_count": 9,
   "id": "d790f735",
   "metadata": {},
   "outputs": [
    {
     "name": "stdout",
     "output_type": "stream",
     "text": [
      "root\n",
      " |-- key: string (nullable = true)\n",
      " |-- value: struct (nullable = true)\n",
      " |    |-- ID: long (nullable = true)\n",
      " |    |-- USER_ID: long (nullable = true)\n",
      " |    |-- PLACE_COUNTRY: string (nullable = true)\n",
      " |-- topic: string (nullable = true)\n",
      " |-- partition: integer (nullable = true)\n",
      " |-- offset: long (nullable = true)\n",
      " |-- timestamp: timestamp (nullable = true)\n",
      " |-- timestampType: integer (nullable = true)\n",
      "\n"
     ]
    }
   ],
   "source": [
    "# Print Schema of json df\n",
    "json_stream_df.printSchema()"
   ]
  },
  {
   "cell_type": "code",
   "execution_count": 10,
   "id": "8bab8502",
   "metadata": {},
   "outputs": [],
   "source": [
    "# Flatten the data (id and user location) and rename the columns key, topic, timestamp to event_key, event_topic and event_timestamp\n",
    "tweets_stream_df = json_stream_df \\\n",
    "    .select( \\\n",
    "        F.col(\"key\").alias(\"event_key\"), \\\n",
    "        F.col(\"topic\").alias(\"event_topic\"), \\\n",
    "        F.col(\"timestamp\").alias(\"event_timestamp\"), \\\n",
    "        \"value.ID\", \\\n",
    "        \"value.PLACE_COUNTRY\"\n",
    "    )"
   ]
  },
  {
   "cell_type": "code",
   "execution_count": 11,
   "id": "8c142a7e",
   "metadata": {},
   "outputs": [
    {
     "name": "stdout",
     "output_type": "stream",
     "text": [
      "root\n",
      " |-- event_key: string (nullable = true)\n",
      " |-- event_topic: string (nullable = true)\n",
      " |-- event_timestamp: timestamp (nullable = true)\n",
      " |-- ID: long (nullable = true)\n",
      " |-- PLACE_COUNTRY: string (nullable = true)\n",
      "\n"
     ]
    }
   ],
   "source": [
    "tweets_stream_df.printSchema()"
   ]
  },
  {
   "cell_type": "markdown",
   "id": "8bdb5fe7",
   "metadata": {},
   "source": [
    "# Step 3: Creating the window stream with watermark"
   ]
  },
  {
   "cell_type": "code",
   "execution_count": 12,
   "id": "e9862a9e",
   "metadata": {},
   "outputs": [],
   "source": [
    "# Create window stream to get the count of tweet per location over the last 120 seconds (window duration) every 60 seconds (slide duration)\n",
    "window_duration = '120 seconds'\n",
    "slide_duration = '60 seconds'"
   ]
  },
  {
   "cell_type": "code",
   "execution_count": 13,
   "id": "ce27ef35",
   "metadata": {},
   "outputs": [],
   "source": [
    "windowed_count_df = tweets_stream_df \\\n",
    "    .withWatermark(\"event_timestamp\", \"2 minutes\") \\\n",
    "    .groupBy(F.window(tweets_stream_df.event_timestamp, window_duration, slide_duration), tweets_stream_df.PLACE_COUNTRY) \\\n",
    "    .count()"
   ]
  },
  {
   "cell_type": "code",
   "execution_count": 14,
   "id": "9a408066",
   "metadata": {},
   "outputs": [],
   "source": [
    "count_stream = windowed_count_df \\\n",
    "    .writeStream \\\n",
    "    .format(\"memory\") \\\n",
    "    .outputMode(\"Complete\") \\\n",
    "    .queryName(\"count_view\") \\\n",
    "    .start()"
   ]
  },
  {
   "cell_type": "code",
   "execution_count": 15,
   "id": "222637a4",
   "metadata": {},
   "outputs": [
    {
     "name": "stdout",
     "output_type": "stream",
     "text": [
      "+------------------------------------------+------------------+-----+\n",
      "|window                                    |PLACE_COUNTRY     |count|\n",
      "+------------------------------------------+------------------+-----+\n",
      "|{2021-06-12 00:35:00, 2021-06-12 00:37:00}|Brasil            |1    |\n",
      "|{2021-06-12 00:34:00, 2021-06-12 00:36:00}|United States     |4    |\n",
      "|{2021-06-12 00:34:00, 2021-06-12 00:36:00}|Brasil            |3    |\n",
      "|{2021-06-12 00:34:00, 2021-06-12 00:36:00}|Chile             |1    |\n",
      "|{2021-06-12 00:34:00, 2021-06-12 00:36:00}|Colombia          |1    |\n",
      "|{2021-06-12 00:34:00, 2021-06-12 00:36:00}|Dominican Republic|1    |\n",
      "|{2021-06-12 00:34:00, 2021-06-12 00:36:00}|Ecuador           |1    |\n",
      "|{2021-06-12 00:34:00, 2021-06-12 00:36:00}|Malaysia          |1    |\n",
      "|{2021-06-12 00:34:00, 2021-06-12 00:36:00}|Spain             |1    |\n",
      "|{2021-06-12 00:34:00, 2021-06-12 00:36:00}|United Kingdom    |1    |\n",
      "|{2021-06-12 00:34:00, 2021-06-12 00:36:00}|Zimbabwe          |1    |\n",
      "|{2021-06-12 00:33:00, 2021-06-12 00:35:00}|United States     |5    |\n",
      "|{2021-06-12 00:33:00, 2021-06-12 00:35:00}|Brasil            |3    |\n",
      "|{2021-06-12 00:33:00, 2021-06-12 00:35:00}|Chile             |1    |\n",
      "|{2021-06-12 00:33:00, 2021-06-12 00:35:00}|Colombia          |1    |\n",
      "|{2021-06-12 00:33:00, 2021-06-12 00:35:00}|Dominican Republic|1    |\n",
      "|{2021-06-12 00:33:00, 2021-06-12 00:35:00}|Ecuador           |1    |\n",
      "|{2021-06-12 00:33:00, 2021-06-12 00:35:00}|France            |1    |\n",
      "|{2021-06-12 00:33:00, 2021-06-12 00:35:00}|Malaysia          |1    |\n",
      "|{2021-06-12 00:33:00, 2021-06-12 00:35:00}|South Africa      |1    |\n",
      "+------------------------------------------+------------------+-----+\n",
      "only showing top 20 rows\n",
      "\n"
     ]
    },
    {
     "data": {
      "text/plain": [
       "None"
      ]
     },
     "metadata": {},
     "output_type": "display_data"
    },
    {
     "ename": "KeyboardInterrupt",
     "evalue": "",
     "output_type": "error",
     "traceback": [
      "\u001b[0;31m---------------------------------------------------------------------------\u001b[0m",
      "\u001b[0;31mKeyboardInterrupt\u001b[0m                         Traceback (most recent call last)",
      "\u001b[0;32m<ipython-input-15-80360d1900f8>\u001b[0m in \u001b[0;36m<module>\u001b[0;34m\u001b[0m\n\u001b[1;32m      2\u001b[0m     \u001b[0mclear_output\u001b[0m\u001b[0;34m(\u001b[0m\u001b[0mwait\u001b[0m\u001b[0;34m=\u001b[0m\u001b[0;32mTrue\u001b[0m\u001b[0;34m)\u001b[0m\u001b[0;34m\u001b[0m\u001b[0;34m\u001b[0m\u001b[0m\n\u001b[1;32m      3\u001b[0m     \u001b[0mdisplay\u001b[0m\u001b[0;34m(\u001b[0m\u001b[0mspark\u001b[0m\u001b[0;34m.\u001b[0m\u001b[0msql\u001b[0m\u001b[0;34m(\u001b[0m\u001b[0;34m'SELECT * FROM count_view order by window.start DESC, count DESC, PLACE_COUNTRY'\u001b[0m\u001b[0;34m)\u001b[0m\u001b[0;34m.\u001b[0m\u001b[0mshow\u001b[0m\u001b[0;34m(\u001b[0m\u001b[0mtruncate\u001b[0m\u001b[0;34m=\u001b[0m\u001b[0;32mFalse\u001b[0m\u001b[0;34m)\u001b[0m\u001b[0;34m)\u001b[0m\u001b[0;34m\u001b[0m\u001b[0;34m\u001b[0m\u001b[0m\n\u001b[0;32m----> 4\u001b[0;31m     \u001b[0mtime\u001b[0m\u001b[0;34m.\u001b[0m\u001b[0msleep\u001b[0m\u001b[0;34m(\u001b[0m\u001b[0;36m60\u001b[0m\u001b[0;34m)\u001b[0m\u001b[0;34m\u001b[0m\u001b[0;34m\u001b[0m\u001b[0m\n\u001b[0m",
      "\u001b[0;31mKeyboardInterrupt\u001b[0m: "
     ]
    }
   ],
   "source": [
    "# Showing tweets per country in a window\n",
    "while True:\n",
    "    clear_output(wait=True)\n",
    "    display(spark.sql('SELECT * FROM count_view order by window.start DESC, count DESC, PLACE_COUNTRY').show(truncate=False))\n",
    "    time.sleep(60)"
   ]
  },
  {
   "cell_type": "code",
   "execution_count": 16,
   "id": "7ebf6492",
   "metadata": {},
   "outputs": [],
   "source": [
    "count_stream.stop()"
   ]
  },
  {
   "cell_type": "code",
   "execution_count": 17,
   "id": "6dc3fc45",
   "metadata": {},
   "outputs": [],
   "source": [
    "spark.stop()"
   ]
  }
 ],
 "metadata": {
  "kernelspec": {
   "display_name": "Python 3",
   "language": "python",
   "name": "python3"
  },
  "language_info": {
   "codemirror_mode": {
    "name": "ipython",
    "version": 3
   },
   "file_extension": ".py",
   "mimetype": "text/x-python",
   "name": "python",
   "nbconvert_exporter": "python",
   "pygments_lexer": "ipython3",
   "version": "3.8.8"
  }
 },
 "nbformat": 4,
 "nbformat_minor": 5
}
